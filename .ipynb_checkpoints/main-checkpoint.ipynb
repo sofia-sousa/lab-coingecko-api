{
 "cells": [
  {
   "cell_type": "markdown",
   "metadata": {},
   "source": [
    "##  Imports"
   ]
  },
  {
   "cell_type": "code",
   "execution_count": 1,
   "metadata": {},
   "outputs": [],
   "source": [
    "import pandas as pd\n",
    "import requests\n",
    "import json\n"
   ]
  },
  {
   "cell_type": "markdown",
   "metadata": {},
   "source": [
    "# Make a dataframe with Bitcoin and Dogecoin market value for last 30 days vs USD"
   ]
  },
  {
   "cell_type": "code",
   "execution_count": 2,
   "metadata": {},
   "outputs": [],
   "source": [
    "url_bitcoin = 'https://api.coingecko.com/api/v3/coins/bitcoin/market_chart/range?vs_currency=usd&from=1564099200&to=1566777600'"
   ]
  },
  {
   "cell_type": "code",
   "execution_count": 3,
   "metadata": {},
   "outputs": [],
   "source": [
    "response = requests.get(url_bitcoin)"
   ]
  },
  {
   "cell_type": "code",
   "execution_count": 4,
   "metadata": {},
   "outputs": [
    {
     "data": {
      "text/plain": [
       "<Response [200]>"
      ]
     },
     "execution_count": 4,
     "metadata": {},
     "output_type": "execute_result"
    }
   ],
   "source": [
    "response"
   ]
  },
  {
   "cell_type": "code",
   "execution_count": 5,
   "metadata": {},
   "outputs": [
    {
     "data": {
      "text/plain": [
       "<bound method NDFrame.describe of                                   prices                          market_caps  \\\n",
       "0     [1564099337368, 9878.659976320554]  [1564099337368, 176201148443.30237]   \n",
       "1     [1564102847914, 9725.381861348724]   [1564102847914, 173274132948.5072]   \n",
       "2     [1564106443462, 9716.286269576427]  [1564106443462, 173387099184.40314]   \n",
       "3      [1564110199752, 9696.36331610203]  [1564110199752, 173007305499.28226]   \n",
       "4      [1564113698945, 9715.25537063541]  [1564113698945, 173333378738.65802]   \n",
       "..                                   ...                                  ...   \n",
       "738  [1566759764670, 10075.283452176265]  [1566759764670, 180312934969.44666]   \n",
       "739  [1566763384816, 10073.951909331357]  [1566763384816, 180539162672.45828]   \n",
       "740  [1566766907833, 10015.822544974606]  [1566766907833, 179430221180.97717]   \n",
       "741  [1566770491321, 10024.441796895293]  [1566770491321, 179544836134.80225]   \n",
       "742  [1566774128896, 10189.320115687236]   [1566774128896, 182365642101.3323]   \n",
       "\n",
       "                           total_volumes  \n",
       "0    [1564099337368, 21507584689.813976]  \n",
       "1    [1564102847914, 21345499733.104195]  \n",
       "2    [1564106443462, 20071447878.925583]  \n",
       "3       [1564110199752, 19735030860.173]  \n",
       "4    [1564113698945, 19927249133.150196]  \n",
       "..                                   ...  \n",
       "738    [1566759764670, 17760399859.1851]  \n",
       "739  [1566763384816, 17823349306.767918]  \n",
       "740  [1566766907833, 17725967603.849625]  \n",
       "741  [1566770491321, 18479695946.148212]  \n",
       "742  [1566774128896, 20685886953.698814]  \n",
       "\n",
       "[743 rows x 3 columns]>"
      ]
     },
     "execution_count": 5,
     "metadata": {},
     "output_type": "execute_result"
    }
   ],
   "source": [
    "bitcoin = pd.DataFrame(response.json())\n",
    "bitcoin.describe"
   ]
  },
  {
   "cell_type": "code",
   "execution_count": 6,
   "metadata": {},
   "outputs": [
    {
     "data": {
      "text/plain": [
       "Index(['prices', 'market_caps', 'total_volumes'], dtype='object')"
      ]
     },
     "execution_count": 6,
     "metadata": {},
     "output_type": "execute_result"
    }
   ],
   "source": [
    "bitcoin.columns"
   ]
  },
  {
   "cell_type": "code",
   "execution_count": 7,
   "metadata": {},
   "outputs": [
    {
     "data": {
      "text/html": [
       "<div>\n",
       "<style scoped>\n",
       "    .dataframe tbody tr th:only-of-type {\n",
       "        vertical-align: middle;\n",
       "    }\n",
       "\n",
       "    .dataframe tbody tr th {\n",
       "        vertical-align: top;\n",
       "    }\n",
       "\n",
       "    .dataframe thead th {\n",
       "        text-align: right;\n",
       "    }\n",
       "</style>\n",
       "<table border=\"1\" class=\"dataframe\">\n",
       "  <thead>\n",
       "    <tr style=\"text-align: right;\">\n",
       "      <th></th>\n",
       "      <th>prices</th>\n",
       "      <th>market_caps</th>\n",
       "      <th>total_volumes</th>\n",
       "    </tr>\n",
       "  </thead>\n",
       "  <tbody>\n",
       "    <tr>\n",
       "      <th>0</th>\n",
       "      <td>[1564099337368, 9878.659976320554]</td>\n",
       "      <td>[1564099337368, 176201148443.30237]</td>\n",
       "      <td>[1564099337368, 21507584689.813976]</td>\n",
       "    </tr>\n",
       "    <tr>\n",
       "      <th>1</th>\n",
       "      <td>[1564102847914, 9725.381861348724]</td>\n",
       "      <td>[1564102847914, 173274132948.5072]</td>\n",
       "      <td>[1564102847914, 21345499733.104195]</td>\n",
       "    </tr>\n",
       "    <tr>\n",
       "      <th>2</th>\n",
       "      <td>[1564106443462, 9716.286269576427]</td>\n",
       "      <td>[1564106443462, 173387099184.40314]</td>\n",
       "      <td>[1564106443462, 20071447878.925583]</td>\n",
       "    </tr>\n",
       "    <tr>\n",
       "      <th>3</th>\n",
       "      <td>[1564110199752, 9696.36331610203]</td>\n",
       "      <td>[1564110199752, 173007305499.28226]</td>\n",
       "      <td>[1564110199752, 19735030860.173]</td>\n",
       "    </tr>\n",
       "    <tr>\n",
       "      <th>4</th>\n",
       "      <td>[1564113698945, 9715.25537063541]</td>\n",
       "      <td>[1564113698945, 173333378738.65802]</td>\n",
       "      <td>[1564113698945, 19927249133.150196]</td>\n",
       "    </tr>\n",
       "  </tbody>\n",
       "</table>\n",
       "</div>"
      ],
      "text/plain": [
       "                               prices                          market_caps  \\\n",
       "0  [1564099337368, 9878.659976320554]  [1564099337368, 176201148443.30237]   \n",
       "1  [1564102847914, 9725.381861348724]   [1564102847914, 173274132948.5072]   \n",
       "2  [1564106443462, 9716.286269576427]  [1564106443462, 173387099184.40314]   \n",
       "3   [1564110199752, 9696.36331610203]  [1564110199752, 173007305499.28226]   \n",
       "4   [1564113698945, 9715.25537063541]  [1564113698945, 173333378738.65802]   \n",
       "\n",
       "                         total_volumes  \n",
       "0  [1564099337368, 21507584689.813976]  \n",
       "1  [1564102847914, 21345499733.104195]  \n",
       "2  [1564106443462, 20071447878.925583]  \n",
       "3     [1564110199752, 19735030860.173]  \n",
       "4  [1564113698945, 19927249133.150196]  "
      ]
     },
     "execution_count": 7,
     "metadata": {},
     "output_type": "execute_result"
    }
   ],
   "source": [
    "bitcoin.head()"
   ]
  },
  {
   "cell_type": "code",
   "execution_count": 8,
   "metadata": {},
   "outputs": [],
   "source": [
    "bitcoin['date'] = list(map((lambda x: x[0]), (bitcoin['prices'])))"
   ]
  },
  {
   "cell_type": "code",
   "execution_count": 9,
   "metadata": {},
   "outputs": [
    {
     "data": {
      "text/html": [
       "<div>\n",
       "<style scoped>\n",
       "    .dataframe tbody tr th:only-of-type {\n",
       "        vertical-align: middle;\n",
       "    }\n",
       "\n",
       "    .dataframe tbody tr th {\n",
       "        vertical-align: top;\n",
       "    }\n",
       "\n",
       "    .dataframe thead th {\n",
       "        text-align: right;\n",
       "    }\n",
       "</style>\n",
       "<table border=\"1\" class=\"dataframe\">\n",
       "  <thead>\n",
       "    <tr style=\"text-align: right;\">\n",
       "      <th></th>\n",
       "      <th>prices</th>\n",
       "      <th>market_caps</th>\n",
       "      <th>total_volumes</th>\n",
       "      <th>date</th>\n",
       "    </tr>\n",
       "  </thead>\n",
       "  <tbody>\n",
       "    <tr>\n",
       "      <th>0</th>\n",
       "      <td>[1564099337368, 9878.659976320554]</td>\n",
       "      <td>[1564099337368, 176201148443.30237]</td>\n",
       "      <td>[1564099337368, 21507584689.813976]</td>\n",
       "      <td>1564099337368</td>\n",
       "    </tr>\n",
       "    <tr>\n",
       "      <th>1</th>\n",
       "      <td>[1564102847914, 9725.381861348724]</td>\n",
       "      <td>[1564102847914, 173274132948.5072]</td>\n",
       "      <td>[1564102847914, 21345499733.104195]</td>\n",
       "      <td>1564102847914</td>\n",
       "    </tr>\n",
       "    <tr>\n",
       "      <th>2</th>\n",
       "      <td>[1564106443462, 9716.286269576427]</td>\n",
       "      <td>[1564106443462, 173387099184.40314]</td>\n",
       "      <td>[1564106443462, 20071447878.925583]</td>\n",
       "      <td>1564106443462</td>\n",
       "    </tr>\n",
       "    <tr>\n",
       "      <th>3</th>\n",
       "      <td>[1564110199752, 9696.36331610203]</td>\n",
       "      <td>[1564110199752, 173007305499.28226]</td>\n",
       "      <td>[1564110199752, 19735030860.173]</td>\n",
       "      <td>1564110199752</td>\n",
       "    </tr>\n",
       "    <tr>\n",
       "      <th>4</th>\n",
       "      <td>[1564113698945, 9715.25537063541]</td>\n",
       "      <td>[1564113698945, 173333378738.65802]</td>\n",
       "      <td>[1564113698945, 19927249133.150196]</td>\n",
       "      <td>1564113698945</td>\n",
       "    </tr>\n",
       "  </tbody>\n",
       "</table>\n",
       "</div>"
      ],
      "text/plain": [
       "                               prices                          market_caps  \\\n",
       "0  [1564099337368, 9878.659976320554]  [1564099337368, 176201148443.30237]   \n",
       "1  [1564102847914, 9725.381861348724]   [1564102847914, 173274132948.5072]   \n",
       "2  [1564106443462, 9716.286269576427]  [1564106443462, 173387099184.40314]   \n",
       "3   [1564110199752, 9696.36331610203]  [1564110199752, 173007305499.28226]   \n",
       "4   [1564113698945, 9715.25537063541]  [1564113698945, 173333378738.65802]   \n",
       "\n",
       "                         total_volumes           date  \n",
       "0  [1564099337368, 21507584689.813976]  1564099337368  \n",
       "1  [1564102847914, 21345499733.104195]  1564102847914  \n",
       "2  [1564106443462, 20071447878.925583]  1564106443462  \n",
       "3     [1564110199752, 19735030860.173]  1564110199752  \n",
       "4  [1564113698945, 19927249133.150196]  1564113698945  "
      ]
     },
     "execution_count": 9,
     "metadata": {},
     "output_type": "execute_result"
    }
   ],
   "source": [
    "bitcoin.head()"
   ]
  },
  {
   "cell_type": "code",
   "execution_count": 10,
   "metadata": {},
   "outputs": [],
   "source": [
    "bitcoin['prices'] = list(map((lambda x: x[1]), (bitcoin['prices']))) #what if i wanted to do this to the three columns?"
   ]
  },
  {
   "cell_type": "code",
   "execution_count": 11,
   "metadata": {},
   "outputs": [
    {
     "data": {
      "text/html": [
       "<div>\n",
       "<style scoped>\n",
       "    .dataframe tbody tr th:only-of-type {\n",
       "        vertical-align: middle;\n",
       "    }\n",
       "\n",
       "    .dataframe tbody tr th {\n",
       "        vertical-align: top;\n",
       "    }\n",
       "\n",
       "    .dataframe thead th {\n",
       "        text-align: right;\n",
       "    }\n",
       "</style>\n",
       "<table border=\"1\" class=\"dataframe\">\n",
       "  <thead>\n",
       "    <tr style=\"text-align: right;\">\n",
       "      <th></th>\n",
       "      <th>prices</th>\n",
       "      <th>market_caps</th>\n",
       "      <th>total_volumes</th>\n",
       "      <th>date</th>\n",
       "    </tr>\n",
       "  </thead>\n",
       "  <tbody>\n",
       "    <tr>\n",
       "      <th>0</th>\n",
       "      <td>9878.659976</td>\n",
       "      <td>[1564099337368, 176201148443.30237]</td>\n",
       "      <td>[1564099337368, 21507584689.813976]</td>\n",
       "      <td>1564099337368</td>\n",
       "    </tr>\n",
       "    <tr>\n",
       "      <th>1</th>\n",
       "      <td>9725.381861</td>\n",
       "      <td>[1564102847914, 173274132948.5072]</td>\n",
       "      <td>[1564102847914, 21345499733.104195]</td>\n",
       "      <td>1564102847914</td>\n",
       "    </tr>\n",
       "    <tr>\n",
       "      <th>2</th>\n",
       "      <td>9716.286270</td>\n",
       "      <td>[1564106443462, 173387099184.40314]</td>\n",
       "      <td>[1564106443462, 20071447878.925583]</td>\n",
       "      <td>1564106443462</td>\n",
       "    </tr>\n",
       "    <tr>\n",
       "      <th>3</th>\n",
       "      <td>9696.363316</td>\n",
       "      <td>[1564110199752, 173007305499.28226]</td>\n",
       "      <td>[1564110199752, 19735030860.173]</td>\n",
       "      <td>1564110199752</td>\n",
       "    </tr>\n",
       "    <tr>\n",
       "      <th>4</th>\n",
       "      <td>9715.255371</td>\n",
       "      <td>[1564113698945, 173333378738.65802]</td>\n",
       "      <td>[1564113698945, 19927249133.150196]</td>\n",
       "      <td>1564113698945</td>\n",
       "    </tr>\n",
       "  </tbody>\n",
       "</table>\n",
       "</div>"
      ],
      "text/plain": [
       "        prices                          market_caps  \\\n",
       "0  9878.659976  [1564099337368, 176201148443.30237]   \n",
       "1  9725.381861   [1564102847914, 173274132948.5072]   \n",
       "2  9716.286270  [1564106443462, 173387099184.40314]   \n",
       "3  9696.363316  [1564110199752, 173007305499.28226]   \n",
       "4  9715.255371  [1564113698945, 173333378738.65802]   \n",
       "\n",
       "                         total_volumes           date  \n",
       "0  [1564099337368, 21507584689.813976]  1564099337368  \n",
       "1  [1564102847914, 21345499733.104195]  1564102847914  \n",
       "2  [1564106443462, 20071447878.925583]  1564106443462  \n",
       "3     [1564110199752, 19735030860.173]  1564110199752  \n",
       "4  [1564113698945, 19927249133.150196]  1564113698945  "
      ]
     },
     "execution_count": 11,
     "metadata": {},
     "output_type": "execute_result"
    }
   ],
   "source": [
    "bitcoin.head()"
   ]
  },
  {
   "cell_type": "code",
   "execution_count": 12,
   "metadata": {},
   "outputs": [
    {
     "data": {
      "text/html": [
       "<div>\n",
       "<style scoped>\n",
       "    .dataframe tbody tr th:only-of-type {\n",
       "        vertical-align: middle;\n",
       "    }\n",
       "\n",
       "    .dataframe tbody tr th {\n",
       "        vertical-align: top;\n",
       "    }\n",
       "\n",
       "    .dataframe thead th {\n",
       "        text-align: right;\n",
       "    }\n",
       "</style>\n",
       "<table border=\"1\" class=\"dataframe\">\n",
       "  <thead>\n",
       "    <tr style=\"text-align: right;\">\n",
       "      <th></th>\n",
       "      <th>date</th>\n",
       "      <th>prices</th>\n",
       "    </tr>\n",
       "  </thead>\n",
       "  <tbody>\n",
       "    <tr>\n",
       "      <th>0</th>\n",
       "      <td>1564099337368</td>\n",
       "      <td>9878.659976</td>\n",
       "    </tr>\n",
       "    <tr>\n",
       "      <th>1</th>\n",
       "      <td>1564102847914</td>\n",
       "      <td>9725.381861</td>\n",
       "    </tr>\n",
       "    <tr>\n",
       "      <th>2</th>\n",
       "      <td>1564106443462</td>\n",
       "      <td>9716.286270</td>\n",
       "    </tr>\n",
       "    <tr>\n",
       "      <th>3</th>\n",
       "      <td>1564110199752</td>\n",
       "      <td>9696.363316</td>\n",
       "    </tr>\n",
       "    <tr>\n",
       "      <th>4</th>\n",
       "      <td>1564113698945</td>\n",
       "      <td>9715.255371</td>\n",
       "    </tr>\n",
       "  </tbody>\n",
       "</table>\n",
       "</div>"
      ],
      "text/plain": [
       "            date       prices\n",
       "0  1564099337368  9878.659976\n",
       "1  1564102847914  9725.381861\n",
       "2  1564106443462  9716.286270\n",
       "3  1564110199752  9696.363316\n",
       "4  1564113698945  9715.255371"
      ]
     },
     "execution_count": 12,
     "metadata": {},
     "output_type": "execute_result"
    }
   ],
   "source": [
    "bitcoin = bitcoin [['date', 'prices']]\n",
    "bitcoin.head()"
   ]
  },
  {
   "cell_type": "code",
   "execution_count": 13,
   "metadata": {},
   "outputs": [
    {
     "data": {
      "text/html": [
       "<div>\n",
       "<style scoped>\n",
       "    .dataframe tbody tr th:only-of-type {\n",
       "        vertical-align: middle;\n",
       "    }\n",
       "\n",
       "    .dataframe tbody tr th {\n",
       "        vertical-align: top;\n",
       "    }\n",
       "\n",
       "    .dataframe thead th {\n",
       "        text-align: right;\n",
       "    }\n",
       "</style>\n",
       "<table border=\"1\" class=\"dataframe\">\n",
       "  <thead>\n",
       "    <tr style=\"text-align: right;\">\n",
       "      <th></th>\n",
       "      <th>prices</th>\n",
       "      <th>market_caps</th>\n",
       "      <th>total_volumes</th>\n",
       "    </tr>\n",
       "  </thead>\n",
       "  <tbody>\n",
       "    <tr>\n",
       "      <th>0</th>\n",
       "      <td>[1564099328532, 0.0029024811215809638]</td>\n",
       "      <td>[1564099328532, 349708548.25249594]</td>\n",
       "      <td>[1564099328532, 48025515.64129308]</td>\n",
       "    </tr>\n",
       "    <tr>\n",
       "      <th>1</th>\n",
       "      <td>[1564102839017, 0.0028735925916123645]</td>\n",
       "      <td>[1564102839017, 345941694.40612555]</td>\n",
       "      <td>[1564102839017, 46940717.65886509]</td>\n",
       "    </tr>\n",
       "    <tr>\n",
       "      <th>2</th>\n",
       "      <td>[1564106433174, 0.002852134564671369]</td>\n",
       "      <td>[1564106433174, 343558882.3073985]</td>\n",
       "      <td>[1564106433174, 46067724.03893317]</td>\n",
       "    </tr>\n",
       "    <tr>\n",
       "      <th>3</th>\n",
       "      <td>[1564110195652, 0.002876966333648953]</td>\n",
       "      <td>[1564110195652, 347039066.7839264]</td>\n",
       "      <td>[1564110195652, 46075776.77161792]</td>\n",
       "    </tr>\n",
       "    <tr>\n",
       "      <th>4</th>\n",
       "      <td>[1564113692647, 0.002878374972072562]</td>\n",
       "      <td>[1564113692647, 343856906.8673198]</td>\n",
       "      <td>[1564113692647, 46150239.90178016]</td>\n",
       "    </tr>\n",
       "  </tbody>\n",
       "</table>\n",
       "</div>"
      ],
      "text/plain": [
       "                                   prices  \\\n",
       "0  [1564099328532, 0.0029024811215809638]   \n",
       "1  [1564102839017, 0.0028735925916123645]   \n",
       "2   [1564106433174, 0.002852134564671369]   \n",
       "3   [1564110195652, 0.002876966333648953]   \n",
       "4   [1564113692647, 0.002878374972072562]   \n",
       "\n",
       "                           market_caps                       total_volumes  \n",
       "0  [1564099328532, 349708548.25249594]  [1564099328532, 48025515.64129308]  \n",
       "1  [1564102839017, 345941694.40612555]  [1564102839017, 46940717.65886509]  \n",
       "2   [1564106433174, 343558882.3073985]  [1564106433174, 46067724.03893317]  \n",
       "3   [1564110195652, 347039066.7839264]  [1564110195652, 46075776.77161792]  \n",
       "4   [1564113692647, 343856906.8673198]  [1564113692647, 46150239.90178016]  "
      ]
     },
     "execution_count": 13,
     "metadata": {},
     "output_type": "execute_result"
    }
   ],
   "source": [
    "url_dogecoin = 'https://api.coingecko.com/api/v3/coins/dogecoin/market_chart/range?vs_currency=usd&from=1564099200&to=1566777600'\n",
    "response = requests.get(url_dogecoin)\n",
    "dogecoin = pd.DataFrame(response.json())\n",
    "dogecoin.head()"
   ]
  },
  {
   "cell_type": "code",
   "execution_count": 14,
   "metadata": {},
   "outputs": [],
   "source": [
    "dogecoin['date'] = list(map((lambda x: x[0]), (dogecoin['prices'])))"
   ]
  },
  {
   "cell_type": "code",
   "execution_count": 15,
   "metadata": {},
   "outputs": [
    {
     "data": {
      "text/html": [
       "<div>\n",
       "<style scoped>\n",
       "    .dataframe tbody tr th:only-of-type {\n",
       "        vertical-align: middle;\n",
       "    }\n",
       "\n",
       "    .dataframe tbody tr th {\n",
       "        vertical-align: top;\n",
       "    }\n",
       "\n",
       "    .dataframe thead th {\n",
       "        text-align: right;\n",
       "    }\n",
       "</style>\n",
       "<table border=\"1\" class=\"dataframe\">\n",
       "  <thead>\n",
       "    <tr style=\"text-align: right;\">\n",
       "      <th></th>\n",
       "      <th>prices</th>\n",
       "      <th>market_caps</th>\n",
       "      <th>total_volumes</th>\n",
       "      <th>date</th>\n",
       "    </tr>\n",
       "  </thead>\n",
       "  <tbody>\n",
       "    <tr>\n",
       "      <th>0</th>\n",
       "      <td>[1564099328532, 0.0029024811215809638]</td>\n",
       "      <td>[1564099328532, 349708548.25249594]</td>\n",
       "      <td>[1564099328532, 48025515.64129308]</td>\n",
       "      <td>1564099328532</td>\n",
       "    </tr>\n",
       "    <tr>\n",
       "      <th>1</th>\n",
       "      <td>[1564102839017, 0.0028735925916123645]</td>\n",
       "      <td>[1564102839017, 345941694.40612555]</td>\n",
       "      <td>[1564102839017, 46940717.65886509]</td>\n",
       "      <td>1564102839017</td>\n",
       "    </tr>\n",
       "    <tr>\n",
       "      <th>2</th>\n",
       "      <td>[1564106433174, 0.002852134564671369]</td>\n",
       "      <td>[1564106433174, 343558882.3073985]</td>\n",
       "      <td>[1564106433174, 46067724.03893317]</td>\n",
       "      <td>1564106433174</td>\n",
       "    </tr>\n",
       "    <tr>\n",
       "      <th>3</th>\n",
       "      <td>[1564110195652, 0.002876966333648953]</td>\n",
       "      <td>[1564110195652, 347039066.7839264]</td>\n",
       "      <td>[1564110195652, 46075776.77161792]</td>\n",
       "      <td>1564110195652</td>\n",
       "    </tr>\n",
       "    <tr>\n",
       "      <th>4</th>\n",
       "      <td>[1564113692647, 0.002878374972072562]</td>\n",
       "      <td>[1564113692647, 343856906.8673198]</td>\n",
       "      <td>[1564113692647, 46150239.90178016]</td>\n",
       "      <td>1564113692647</td>\n",
       "    </tr>\n",
       "  </tbody>\n",
       "</table>\n",
       "</div>"
      ],
      "text/plain": [
       "                                   prices  \\\n",
       "0  [1564099328532, 0.0029024811215809638]   \n",
       "1  [1564102839017, 0.0028735925916123645]   \n",
       "2   [1564106433174, 0.002852134564671369]   \n",
       "3   [1564110195652, 0.002876966333648953]   \n",
       "4   [1564113692647, 0.002878374972072562]   \n",
       "\n",
       "                           market_caps                       total_volumes  \\\n",
       "0  [1564099328532, 349708548.25249594]  [1564099328532, 48025515.64129308]   \n",
       "1  [1564102839017, 345941694.40612555]  [1564102839017, 46940717.65886509]   \n",
       "2   [1564106433174, 343558882.3073985]  [1564106433174, 46067724.03893317]   \n",
       "3   [1564110195652, 347039066.7839264]  [1564110195652, 46075776.77161792]   \n",
       "4   [1564113692647, 343856906.8673198]  [1564113692647, 46150239.90178016]   \n",
       "\n",
       "            date  \n",
       "0  1564099328532  \n",
       "1  1564102839017  \n",
       "2  1564106433174  \n",
       "3  1564110195652  \n",
       "4  1564113692647  "
      ]
     },
     "execution_count": 15,
     "metadata": {},
     "output_type": "execute_result"
    }
   ],
   "source": [
    "dogecoin.head()"
   ]
  },
  {
   "cell_type": "code",
   "execution_count": 16,
   "metadata": {},
   "outputs": [],
   "source": [
    "dogecoin['prices'] = list(map((lambda x: x[1]), (dogecoin['prices']))) #what if i wanted to do this to the three columns?"
   ]
  },
  {
   "cell_type": "code",
   "execution_count": 17,
   "metadata": {},
   "outputs": [
    {
     "data": {
      "text/html": [
       "<div>\n",
       "<style scoped>\n",
       "    .dataframe tbody tr th:only-of-type {\n",
       "        vertical-align: middle;\n",
       "    }\n",
       "\n",
       "    .dataframe tbody tr th {\n",
       "        vertical-align: top;\n",
       "    }\n",
       "\n",
       "    .dataframe thead th {\n",
       "        text-align: right;\n",
       "    }\n",
       "</style>\n",
       "<table border=\"1\" class=\"dataframe\">\n",
       "  <thead>\n",
       "    <tr style=\"text-align: right;\">\n",
       "      <th></th>\n",
       "      <th>date</th>\n",
       "      <th>prices</th>\n",
       "    </tr>\n",
       "  </thead>\n",
       "  <tbody>\n",
       "    <tr>\n",
       "      <th>0</th>\n",
       "      <td>1564099328532</td>\n",
       "      <td>0.002902</td>\n",
       "    </tr>\n",
       "    <tr>\n",
       "      <th>1</th>\n",
       "      <td>1564102839017</td>\n",
       "      <td>0.002874</td>\n",
       "    </tr>\n",
       "    <tr>\n",
       "      <th>2</th>\n",
       "      <td>1564106433174</td>\n",
       "      <td>0.002852</td>\n",
       "    </tr>\n",
       "    <tr>\n",
       "      <th>3</th>\n",
       "      <td>1564110195652</td>\n",
       "      <td>0.002877</td>\n",
       "    </tr>\n",
       "    <tr>\n",
       "      <th>4</th>\n",
       "      <td>1564113692647</td>\n",
       "      <td>0.002878</td>\n",
       "    </tr>\n",
       "  </tbody>\n",
       "</table>\n",
       "</div>"
      ],
      "text/plain": [
       "            date    prices\n",
       "0  1564099328532  0.002902\n",
       "1  1564102839017  0.002874\n",
       "2  1564106433174  0.002852\n",
       "3  1564110195652  0.002877\n",
       "4  1564113692647  0.002878"
      ]
     },
     "execution_count": 17,
     "metadata": {},
     "output_type": "execute_result"
    }
   ],
   "source": [
    "dogecoin = dogecoin[['date', 'prices']]\n",
    "dogecoin.head()"
   ]
  },
  {
   "cell_type": "code",
   "execution_count": 18,
   "metadata": {},
   "outputs": [
    {
     "data": {
      "text/html": [
       "<div>\n",
       "<style scoped>\n",
       "    .dataframe tbody tr th:only-of-type {\n",
       "        vertical-align: middle;\n",
       "    }\n",
       "\n",
       "    .dataframe tbody tr th {\n",
       "        vertical-align: top;\n",
       "    }\n",
       "\n",
       "    .dataframe thead th {\n",
       "        text-align: right;\n",
       "    }\n",
       "</style>\n",
       "<table border=\"1\" class=\"dataframe\">\n",
       "  <thead>\n",
       "    <tr style=\"text-align: right;\">\n",
       "      <th></th>\n",
       "      <th>date</th>\n",
       "      <th>prices</th>\n",
       "      <th>date_ms</th>\n",
       "    </tr>\n",
       "  </thead>\n",
       "  <tbody>\n",
       "    <tr>\n",
       "      <th>0</th>\n",
       "      <td>1564099328532</td>\n",
       "      <td>0.002902</td>\n",
       "      <td>2019-07-26 00:02:08.532</td>\n",
       "    </tr>\n",
       "    <tr>\n",
       "      <th>1</th>\n",
       "      <td>1564102839017</td>\n",
       "      <td>0.002874</td>\n",
       "      <td>2019-07-26 01:00:39.017</td>\n",
       "    </tr>\n",
       "    <tr>\n",
       "      <th>2</th>\n",
       "      <td>1564106433174</td>\n",
       "      <td>0.002852</td>\n",
       "      <td>2019-07-26 02:00:33.174</td>\n",
       "    </tr>\n",
       "    <tr>\n",
       "      <th>3</th>\n",
       "      <td>1564110195652</td>\n",
       "      <td>0.002877</td>\n",
       "      <td>2019-07-26 03:03:15.652</td>\n",
       "    </tr>\n",
       "    <tr>\n",
       "      <th>4</th>\n",
       "      <td>1564113692647</td>\n",
       "      <td>0.002878</td>\n",
       "      <td>2019-07-26 04:01:32.647</td>\n",
       "    </tr>\n",
       "  </tbody>\n",
       "</table>\n",
       "</div>"
      ],
      "text/plain": [
       "            date    prices                 date_ms\n",
       "0  1564099328532  0.002902 2019-07-26 00:02:08.532\n",
       "1  1564102839017  0.002874 2019-07-26 01:00:39.017\n",
       "2  1564106433174  0.002852 2019-07-26 02:00:33.174\n",
       "3  1564110195652  0.002877 2019-07-26 03:03:15.652\n",
       "4  1564113692647  0.002878 2019-07-26 04:01:32.647"
      ]
     },
     "execution_count": 18,
     "metadata": {},
     "output_type": "execute_result"
    }
   ],
   "source": [
    "dogecoin['date_ms'] = pd.to_datetime(dogecoin['date'], unit = 'ms')\n",
    "dogecoin.head()"
   ]
  },
  {
   "cell_type": "code",
   "execution_count": 19,
   "metadata": {},
   "outputs": [
    {
     "name": "stderr",
     "output_type": "stream",
     "text": [
      "/usr/local/Cellar/ipython/7.6.1/libexec/vendor/lib/python3.7/site-packages/ipykernel_launcher.py:1: SettingWithCopyWarning: \n",
      "A value is trying to be set on a copy of a slice from a DataFrame.\n",
      "Try using .loc[row_indexer,col_indexer] = value instead\n",
      "\n",
      "See the caveats in the documentation: http://pandas.pydata.org/pandas-docs/stable/user_guide/indexing.html#returning-a-view-versus-a-copy\n",
      "  \"\"\"Entry point for launching an IPython kernel.\n"
     ]
    },
    {
     "data": {
      "text/html": [
       "<div>\n",
       "<style scoped>\n",
       "    .dataframe tbody tr th:only-of-type {\n",
       "        vertical-align: middle;\n",
       "    }\n",
       "\n",
       "    .dataframe tbody tr th {\n",
       "        vertical-align: top;\n",
       "    }\n",
       "\n",
       "    .dataframe thead th {\n",
       "        text-align: right;\n",
       "    }\n",
       "</style>\n",
       "<table border=\"1\" class=\"dataframe\">\n",
       "  <thead>\n",
       "    <tr style=\"text-align: right;\">\n",
       "      <th></th>\n",
       "      <th>date</th>\n",
       "      <th>prices</th>\n",
       "      <th>date_ms</th>\n",
       "    </tr>\n",
       "  </thead>\n",
       "  <tbody>\n",
       "    <tr>\n",
       "      <th>0</th>\n",
       "      <td>1564099337368</td>\n",
       "      <td>9878.659976</td>\n",
       "      <td>2019-07-26 00:02:17.368</td>\n",
       "    </tr>\n",
       "    <tr>\n",
       "      <th>1</th>\n",
       "      <td>1564102847914</td>\n",
       "      <td>9725.381861</td>\n",
       "      <td>2019-07-26 01:00:47.914</td>\n",
       "    </tr>\n",
       "    <tr>\n",
       "      <th>2</th>\n",
       "      <td>1564106443462</td>\n",
       "      <td>9716.286270</td>\n",
       "      <td>2019-07-26 02:00:43.462</td>\n",
       "    </tr>\n",
       "    <tr>\n",
       "      <th>3</th>\n",
       "      <td>1564110199752</td>\n",
       "      <td>9696.363316</td>\n",
       "      <td>2019-07-26 03:03:19.752</td>\n",
       "    </tr>\n",
       "    <tr>\n",
       "      <th>4</th>\n",
       "      <td>1564113698945</td>\n",
       "      <td>9715.255371</td>\n",
       "      <td>2019-07-26 04:01:38.945</td>\n",
       "    </tr>\n",
       "  </tbody>\n",
       "</table>\n",
       "</div>"
      ],
      "text/plain": [
       "            date       prices                 date_ms\n",
       "0  1564099337368  9878.659976 2019-07-26 00:02:17.368\n",
       "1  1564102847914  9725.381861 2019-07-26 01:00:47.914\n",
       "2  1564106443462  9716.286270 2019-07-26 02:00:43.462\n",
       "3  1564110199752  9696.363316 2019-07-26 03:03:19.752\n",
       "4  1564113698945  9715.255371 2019-07-26 04:01:38.945"
      ]
     },
     "execution_count": 19,
     "metadata": {},
     "output_type": "execute_result"
    }
   ],
   "source": [
    "bitcoin['date_ms'] = pd.to_datetime(bitcoin['date'], unit = 'ms')\n",
    "bitcoin.head()"
   ]
  },
  {
   "cell_type": "code",
   "execution_count": 20,
   "metadata": {},
   "outputs": [
    {
     "data": {
      "text/plain": [
       "2019"
      ]
     },
     "execution_count": 20,
     "metadata": {},
     "output_type": "execute_result"
    }
   ],
   "source": [
    "bitcoin['date_ms'][0].year"
   ]
  },
  {
   "cell_type": "code",
   "execution_count": 21,
   "metadata": {},
   "outputs": [],
   "source": [
    "bitcoin['date_key'] = list(map((lambda x: pd.Timestamp(year=x.year, month=x.month, day=x.day, hour=x.hour)),(bitcoin['date_ms'])))"
   ]
  },
  {
   "cell_type": "code",
   "execution_count": 22,
   "metadata": {},
   "outputs": [
    {
     "data": {
      "text/html": [
       "<div>\n",
       "<style scoped>\n",
       "    .dataframe tbody tr th:only-of-type {\n",
       "        vertical-align: middle;\n",
       "    }\n",
       "\n",
       "    .dataframe tbody tr th {\n",
       "        vertical-align: top;\n",
       "    }\n",
       "\n",
       "    .dataframe thead th {\n",
       "        text-align: right;\n",
       "    }\n",
       "</style>\n",
       "<table border=\"1\" class=\"dataframe\">\n",
       "  <thead>\n",
       "    <tr style=\"text-align: right;\">\n",
       "      <th></th>\n",
       "      <th>date</th>\n",
       "      <th>prices</th>\n",
       "      <th>date_ms</th>\n",
       "      <th>date_key</th>\n",
       "    </tr>\n",
       "  </thead>\n",
       "  <tbody>\n",
       "    <tr>\n",
       "      <th>0</th>\n",
       "      <td>1564099337368</td>\n",
       "      <td>9878.659976</td>\n",
       "      <td>2019-07-26 00:02:17.368</td>\n",
       "      <td>2019-07-26 00:00:00</td>\n",
       "    </tr>\n",
       "    <tr>\n",
       "      <th>1</th>\n",
       "      <td>1564102847914</td>\n",
       "      <td>9725.381861</td>\n",
       "      <td>2019-07-26 01:00:47.914</td>\n",
       "      <td>2019-07-26 01:00:00</td>\n",
       "    </tr>\n",
       "    <tr>\n",
       "      <th>2</th>\n",
       "      <td>1564106443462</td>\n",
       "      <td>9716.286270</td>\n",
       "      <td>2019-07-26 02:00:43.462</td>\n",
       "      <td>2019-07-26 02:00:00</td>\n",
       "    </tr>\n",
       "    <tr>\n",
       "      <th>3</th>\n",
       "      <td>1564110199752</td>\n",
       "      <td>9696.363316</td>\n",
       "      <td>2019-07-26 03:03:19.752</td>\n",
       "      <td>2019-07-26 03:00:00</td>\n",
       "    </tr>\n",
       "    <tr>\n",
       "      <th>4</th>\n",
       "      <td>1564113698945</td>\n",
       "      <td>9715.255371</td>\n",
       "      <td>2019-07-26 04:01:38.945</td>\n",
       "      <td>2019-07-26 04:00:00</td>\n",
       "    </tr>\n",
       "  </tbody>\n",
       "</table>\n",
       "</div>"
      ],
      "text/plain": [
       "            date       prices                 date_ms            date_key\n",
       "0  1564099337368  9878.659976 2019-07-26 00:02:17.368 2019-07-26 00:00:00\n",
       "1  1564102847914  9725.381861 2019-07-26 01:00:47.914 2019-07-26 01:00:00\n",
       "2  1564106443462  9716.286270 2019-07-26 02:00:43.462 2019-07-26 02:00:00\n",
       "3  1564110199752  9696.363316 2019-07-26 03:03:19.752 2019-07-26 03:00:00\n",
       "4  1564113698945  9715.255371 2019-07-26 04:01:38.945 2019-07-26 04:00:00"
      ]
     },
     "execution_count": 22,
     "metadata": {},
     "output_type": "execute_result"
    }
   ],
   "source": [
    "bitcoin.head()"
   ]
  },
  {
   "cell_type": "code",
   "execution_count": 23,
   "metadata": {},
   "outputs": [],
   "source": [
    "dogecoin['date_key'] = list(map((lambda x: pd.Timestamp(year=x.year, month=x.month, day=x.day, hour=x.hour)),(dogecoin['date_ms'])))"
   ]
  },
  {
   "cell_type": "code",
   "execution_count": 29,
   "metadata": {},
   "outputs": [
    {
     "data": {
      "text/html": [
       "<div>\n",
       "<style scoped>\n",
       "    .dataframe tbody tr th:only-of-type {\n",
       "        vertical-align: middle;\n",
       "    }\n",
       "\n",
       "    .dataframe tbody tr th {\n",
       "        vertical-align: top;\n",
       "    }\n",
       "\n",
       "    .dataframe thead th {\n",
       "        text-align: right;\n",
       "    }\n",
       "</style>\n",
       "<table border=\"1\" class=\"dataframe\">\n",
       "  <thead>\n",
       "    <tr style=\"text-align: right;\">\n",
       "      <th></th>\n",
       "      <th>dogecoin_UNIX_TS</th>\n",
       "      <th>dogecoin_price</th>\n",
       "      <th>date_ms</th>\n",
       "      <th>date_key</th>\n",
       "    </tr>\n",
       "  </thead>\n",
       "  <tbody>\n",
       "    <tr>\n",
       "      <th>0</th>\n",
       "      <td>1564099328532</td>\n",
       "      <td>0.002902</td>\n",
       "      <td>2019-07-26 00:02:08.532</td>\n",
       "      <td>2019-07-26 00:00:00</td>\n",
       "    </tr>\n",
       "    <tr>\n",
       "      <th>1</th>\n",
       "      <td>1564102839017</td>\n",
       "      <td>0.002874</td>\n",
       "      <td>2019-07-26 01:00:39.017</td>\n",
       "      <td>2019-07-26 01:00:00</td>\n",
       "    </tr>\n",
       "    <tr>\n",
       "      <th>2</th>\n",
       "      <td>1564106433174</td>\n",
       "      <td>0.002852</td>\n",
       "      <td>2019-07-26 02:00:33.174</td>\n",
       "      <td>2019-07-26 02:00:00</td>\n",
       "    </tr>\n",
       "    <tr>\n",
       "      <th>3</th>\n",
       "      <td>1564110195652</td>\n",
       "      <td>0.002877</td>\n",
       "      <td>2019-07-26 03:03:15.652</td>\n",
       "      <td>2019-07-26 03:00:00</td>\n",
       "    </tr>\n",
       "    <tr>\n",
       "      <th>4</th>\n",
       "      <td>1564113692647</td>\n",
       "      <td>0.002878</td>\n",
       "      <td>2019-07-26 04:01:32.647</td>\n",
       "      <td>2019-07-26 04:00:00</td>\n",
       "    </tr>\n",
       "  </tbody>\n",
       "</table>\n",
       "</div>"
      ],
      "text/plain": [
       "   dogecoin_UNIX_TS  dogecoin_price                 date_ms  \\\n",
       "0     1564099328532        0.002902 2019-07-26 00:02:08.532   \n",
       "1     1564102839017        0.002874 2019-07-26 01:00:39.017   \n",
       "2     1564106433174        0.002852 2019-07-26 02:00:33.174   \n",
       "3     1564110195652        0.002877 2019-07-26 03:03:15.652   \n",
       "4     1564113692647        0.002878 2019-07-26 04:01:32.647   \n",
       "\n",
       "             date_key  \n",
       "0 2019-07-26 00:00:00  \n",
       "1 2019-07-26 01:00:00  \n",
       "2 2019-07-26 02:00:00  \n",
       "3 2019-07-26 03:00:00  \n",
       "4 2019-07-26 04:00:00  "
      ]
     },
     "execution_count": 29,
     "metadata": {},
     "output_type": "execute_result"
    }
   ],
   "source": [
    "dogecoin = dogecoin.rename(columns={'date':'dogecoin_UNIX_TS', 'prices':'dogecoin_price'})\n",
    "bitcoin = bitcoin.rename(columns={'date':'bitcoin_UNIX_TS', 'prices':'bitcoin_price'})\n",
    "\n",
    "dogecoin.head()"
   ]
  },
  {
   "cell_type": "code",
   "execution_count": 28,
   "metadata": {},
   "outputs": [
    {
     "data": {
      "text/html": [
       "<div>\n",
       "<style scoped>\n",
       "    .dataframe tbody tr th:only-of-type {\n",
       "        vertical-align: middle;\n",
       "    }\n",
       "\n",
       "    .dataframe tbody tr th {\n",
       "        vertical-align: top;\n",
       "    }\n",
       "\n",
       "    .dataframe thead th {\n",
       "        text-align: right;\n",
       "    }\n",
       "</style>\n",
       "<table border=\"1\" class=\"dataframe\">\n",
       "  <thead>\n",
       "    <tr style=\"text-align: right;\">\n",
       "      <th></th>\n",
       "      <th>bitcoin_UNIX_TS</th>\n",
       "      <th>prices</th>\n",
       "      <th>date_ms</th>\n",
       "      <th>date_key</th>\n",
       "    </tr>\n",
       "  </thead>\n",
       "  <tbody>\n",
       "    <tr>\n",
       "      <th>0</th>\n",
       "      <td>1564099337368</td>\n",
       "      <td>9878.659976</td>\n",
       "      <td>2019-07-26 00:02:17.368</td>\n",
       "      <td>2019-07-26 00:00:00</td>\n",
       "    </tr>\n",
       "    <tr>\n",
       "      <th>1</th>\n",
       "      <td>1564102847914</td>\n",
       "      <td>9725.381861</td>\n",
       "      <td>2019-07-26 01:00:47.914</td>\n",
       "      <td>2019-07-26 01:00:00</td>\n",
       "    </tr>\n",
       "    <tr>\n",
       "      <th>2</th>\n",
       "      <td>1564106443462</td>\n",
       "      <td>9716.286270</td>\n",
       "      <td>2019-07-26 02:00:43.462</td>\n",
       "      <td>2019-07-26 02:00:00</td>\n",
       "    </tr>\n",
       "    <tr>\n",
       "      <th>3</th>\n",
       "      <td>1564110199752</td>\n",
       "      <td>9696.363316</td>\n",
       "      <td>2019-07-26 03:03:19.752</td>\n",
       "      <td>2019-07-26 03:00:00</td>\n",
       "    </tr>\n",
       "    <tr>\n",
       "      <th>4</th>\n",
       "      <td>1564113698945</td>\n",
       "      <td>9715.255371</td>\n",
       "      <td>2019-07-26 04:01:38.945</td>\n",
       "      <td>2019-07-26 04:00:00</td>\n",
       "    </tr>\n",
       "  </tbody>\n",
       "</table>\n",
       "</div>"
      ],
      "text/plain": [
       "   bitcoin_UNIX_TS       prices                 date_ms            date_key\n",
       "0    1564099337368  9878.659976 2019-07-26 00:02:17.368 2019-07-26 00:00:00\n",
       "1    1564102847914  9725.381861 2019-07-26 01:00:47.914 2019-07-26 01:00:00\n",
       "2    1564106443462  9716.286270 2019-07-26 02:00:43.462 2019-07-26 02:00:00\n",
       "3    1564110199752  9696.363316 2019-07-26 03:03:19.752 2019-07-26 03:00:00\n",
       "4    1564113698945  9715.255371 2019-07-26 04:01:38.945 2019-07-26 04:00:00"
      ]
     },
     "execution_count": 28,
     "metadata": {},
     "output_type": "execute_result"
    }
   ],
   "source": [
    "bitcoin.head()"
   ]
  },
  {
   "cell_type": "code",
   "execution_count": 31,
   "metadata": {},
   "outputs": [],
   "source": [
    "bitcoin_dogecoin = bitcoin.merge(dogecoin, on='date_key')"
   ]
  },
  {
   "cell_type": "code",
   "execution_count": 32,
   "metadata": {},
   "outputs": [
    {
     "data": {
      "text/plain": [
       "Index(['bitcoin_UNIX_TS', 'bitcoin_price', 'date_ms_x', 'date_key',\n",
       "       'dogecoin_UNIX_TS', 'dogecoin_price', 'date_ms_y'],\n",
       "      dtype='object')"
      ]
     },
     "execution_count": 32,
     "metadata": {},
     "output_type": "execute_result"
    }
   ],
   "source": [
    "bitcoin_dogecoin.columns"
   ]
  },
  {
   "cell_type": "code",
   "execution_count": 33,
   "metadata": {},
   "outputs": [
    {
     "data": {
      "text/html": [
       "<div>\n",
       "<style scoped>\n",
       "    .dataframe tbody tr th:only-of-type {\n",
       "        vertical-align: middle;\n",
       "    }\n",
       "\n",
       "    .dataframe tbody tr th {\n",
       "        vertical-align: top;\n",
       "    }\n",
       "\n",
       "    .dataframe thead th {\n",
       "        text-align: right;\n",
       "    }\n",
       "</style>\n",
       "<table border=\"1\" class=\"dataframe\">\n",
       "  <thead>\n",
       "    <tr style=\"text-align: right;\">\n",
       "      <th></th>\n",
       "      <th>bitcoin_price</th>\n",
       "      <th>date_key</th>\n",
       "      <th>dogecoin_price</th>\n",
       "    </tr>\n",
       "  </thead>\n",
       "  <tbody>\n",
       "    <tr>\n",
       "      <th>0</th>\n",
       "      <td>9878.659976</td>\n",
       "      <td>2019-07-26 00:00:00</td>\n",
       "      <td>0.002902</td>\n",
       "    </tr>\n",
       "    <tr>\n",
       "      <th>1</th>\n",
       "      <td>9725.381861</td>\n",
       "      <td>2019-07-26 01:00:00</td>\n",
       "      <td>0.002874</td>\n",
       "    </tr>\n",
       "    <tr>\n",
       "      <th>2</th>\n",
       "      <td>9716.286270</td>\n",
       "      <td>2019-07-26 02:00:00</td>\n",
       "      <td>0.002852</td>\n",
       "    </tr>\n",
       "    <tr>\n",
       "      <th>3</th>\n",
       "      <td>9696.363316</td>\n",
       "      <td>2019-07-26 03:00:00</td>\n",
       "      <td>0.002877</td>\n",
       "    </tr>\n",
       "    <tr>\n",
       "      <th>4</th>\n",
       "      <td>9715.255371</td>\n",
       "      <td>2019-07-26 04:00:00</td>\n",
       "      <td>0.002878</td>\n",
       "    </tr>\n",
       "  </tbody>\n",
       "</table>\n",
       "</div>"
      ],
      "text/plain": [
       "   bitcoin_price            date_key  dogecoin_price\n",
       "0    9878.659976 2019-07-26 00:00:00        0.002902\n",
       "1    9725.381861 2019-07-26 01:00:00        0.002874\n",
       "2    9716.286270 2019-07-26 02:00:00        0.002852\n",
       "3    9696.363316 2019-07-26 03:00:00        0.002877\n",
       "4    9715.255371 2019-07-26 04:00:00        0.002878"
      ]
     },
     "execution_count": 33,
     "metadata": {},
     "output_type": "execute_result"
    }
   ],
   "source": [
    "bitcoin_dogecoin = bitcoin_dogecoin[['bitcoin_price', 'date_key','dogecoin_price']]\n",
    "bitcoin_dogecoin.head()"
   ]
  },
  {
   "cell_type": "code",
   "execution_count": 26,
   "metadata": {},
   "outputs": [
    {
     "data": {
      "text/plain": [
       "pandas._libs.tslibs.timestamps.Timestamp"
      ]
     },
     "execution_count": 26,
     "metadata": {},
     "output_type": "execute_result"
    }
   ],
   "source": [
    "type(bitcoin['date_ms'][0])"
   ]
  },
  {
   "cell_type": "markdown",
   "metadata": {},
   "source": [
    "# Top Ten Coins Report"
   ]
  },
  {
   "cell_type": "code",
   "execution_count": null,
   "metadata": {},
   "outputs": [],
   "source": []
  },
  {
   "cell_type": "markdown",
   "metadata": {},
   "source": [
    "## List the first 10 coingecko currencies in a DataFrame"
   ]
  },
  {
   "cell_type": "code",
   "execution_count": 54,
   "metadata": {},
   "outputs": [],
   "source": [
    "url = 'https://api.coingecko.com/api/v3/coins/markets?vs_currency=usd&order=market_cap_desc&per_page=250&page=1&sparkline=false&price_change_percentage=24h'"
   ]
  },
  {
   "cell_type": "code",
   "execution_count": 55,
   "metadata": {},
   "outputs": [],
   "source": [
    "response = requests.get(url)"
   ]
  },
  {
   "cell_type": "code",
   "execution_count": 56,
   "metadata": {},
   "outputs": [
    {
     "data": {
      "text/plain": [
       "<Response [200]>"
      ]
     },
     "execution_count": 56,
     "metadata": {},
     "output_type": "execute_result"
    }
   ],
   "source": [
    "response"
   ]
  },
  {
   "cell_type": "code",
   "execution_count": 57,
   "metadata": {},
   "outputs": [],
   "source": [
    "currencies = pd.DataFrame(response.json())"
   ]
  },
  {
   "cell_type": "code",
   "execution_count": 58,
   "metadata": {},
   "outputs": [
    {
     "data": {
      "text/plain": [
       "Index(['id', 'symbol', 'name', 'image', 'current_price', 'market_cap',\n",
       "       'market_cap_rank', 'total_volume', 'high_24h', 'low_24h',\n",
       "       'price_change_24h', 'price_change_percentage_24h',\n",
       "       'market_cap_change_24h', 'market_cap_change_percentage_24h',\n",
       "       'circulating_supply', 'total_supply', 'ath', 'ath_change_percentage',\n",
       "       'ath_date', 'roi', 'last_updated',\n",
       "       'price_change_percentage_24h_in_currency'],\n",
       "      dtype='object')"
      ]
     },
     "execution_count": 58,
     "metadata": {},
     "output_type": "execute_result"
    }
   ],
   "source": [
    "currencies.columns"
   ]
  },
  {
   "cell_type": "code",
   "execution_count": 59,
   "metadata": {},
   "outputs": [
    {
     "data": {
      "text/html": [
       "<div>\n",
       "<style scoped>\n",
       "    .dataframe tbody tr th:only-of-type {\n",
       "        vertical-align: middle;\n",
       "    }\n",
       "\n",
       "    .dataframe tbody tr th {\n",
       "        vertical-align: top;\n",
       "    }\n",
       "\n",
       "    .dataframe thead th {\n",
       "        text-align: right;\n",
       "    }\n",
       "</style>\n",
       "<table border=\"1\" class=\"dataframe\">\n",
       "  <thead>\n",
       "    <tr style=\"text-align: right;\">\n",
       "      <th></th>\n",
       "      <th>id</th>\n",
       "      <th>symbol</th>\n",
       "      <th>name</th>\n",
       "      <th>image</th>\n",
       "      <th>current_price</th>\n",
       "      <th>market_cap</th>\n",
       "      <th>market_cap_rank</th>\n",
       "      <th>total_volume</th>\n",
       "      <th>high_24h</th>\n",
       "      <th>low_24h</th>\n",
       "      <th>...</th>\n",
       "      <th>market_cap_change_24h</th>\n",
       "      <th>market_cap_change_percentage_24h</th>\n",
       "      <th>circulating_supply</th>\n",
       "      <th>total_supply</th>\n",
       "      <th>ath</th>\n",
       "      <th>ath_change_percentage</th>\n",
       "      <th>ath_date</th>\n",
       "      <th>roi</th>\n",
       "      <th>last_updated</th>\n",
       "      <th>price_change_percentage_24h_in_currency</th>\n",
       "    </tr>\n",
       "  </thead>\n",
       "  <tbody>\n",
       "    <tr>\n",
       "      <th>0</th>\n",
       "      <td>bitcoin</td>\n",
       "      <td>btc</td>\n",
       "      <td>Bitcoin</td>\n",
       "      <td>https://assets.coingecko.com/coins/images/1/la...</td>\n",
       "      <td>10311.470000</td>\n",
       "      <td>184502305101</td>\n",
       "      <td>1</td>\n",
       "      <td>2.261348e+10</td>\n",
       "      <td>10673.830000</td>\n",
       "      <td>9990.11000</td>\n",
       "      <td>...</td>\n",
       "      <td>3.787675e+09</td>\n",
       "      <td>2.09594</td>\n",
       "      <td>1.789812e+07</td>\n",
       "      <td>2.100000e+07</td>\n",
       "      <td>19665.39</td>\n",
       "      <td>-47.56543</td>\n",
       "      <td>2017-12-16T00:00:00.000Z</td>\n",
       "      <td>None</td>\n",
       "      <td>2019-08-26T16:00:48.803Z</td>\n",
       "      <td>2.132930</td>\n",
       "    </tr>\n",
       "    <tr>\n",
       "      <th>1</th>\n",
       "      <td>ethereum</td>\n",
       "      <td>eth</td>\n",
       "      <td>Ethereum</td>\n",
       "      <td>https://assets.coingecko.com/coins/images/279/...</td>\n",
       "      <td>188.520000</td>\n",
       "      <td>20264537897</td>\n",
       "      <td>2</td>\n",
       "      <td>7.388140e+09</td>\n",
       "      <td>194.000000</td>\n",
       "      <td>183.66000</td>\n",
       "      <td>...</td>\n",
       "      <td>6.847568e+07</td>\n",
       "      <td>0.33905</td>\n",
       "      <td>1.074819e+08</td>\n",
       "      <td>NaN</td>\n",
       "      <td>1448.18</td>\n",
       "      <td>-86.95546</td>\n",
       "      <td>2018-01-13T00:00:00.000Z</td>\n",
       "      <td>{'times': 23.42172587576219, 'currency': 'btc'...</td>\n",
       "      <td>2019-08-26T16:00:51.255Z</td>\n",
       "      <td>0.222511</td>\n",
       "    </tr>\n",
       "    <tr>\n",
       "      <th>2</th>\n",
       "      <td>ripple</td>\n",
       "      <td>xrp</td>\n",
       "      <td>XRP</td>\n",
       "      <td>https://assets.coingecko.com/coins/images/44/l...</td>\n",
       "      <td>0.270181</td>\n",
       "      <td>11595223451</td>\n",
       "      <td>3</td>\n",
       "      <td>1.429245e+09</td>\n",
       "      <td>0.278334</td>\n",
       "      <td>0.26708</td>\n",
       "      <td>...</td>\n",
       "      <td>6.791793e+06</td>\n",
       "      <td>0.05861</td>\n",
       "      <td>4.290954e+10</td>\n",
       "      <td>1.000000e+11</td>\n",
       "      <td>3.40</td>\n",
       "      <td>-92.03992</td>\n",
       "      <td>2018-01-07T00:00:00.000Z</td>\n",
       "      <td>None</td>\n",
       "      <td>2019-08-26T16:00:39.265Z</td>\n",
       "      <td>0.042662</td>\n",
       "    </tr>\n",
       "    <tr>\n",
       "      <th>3</th>\n",
       "      <td>bitcoin-cash</td>\n",
       "      <td>bch</td>\n",
       "      <td>Bitcoin Cash</td>\n",
       "      <td>https://assets.coingecko.com/coins/images/780/...</td>\n",
       "      <td>308.790000</td>\n",
       "      <td>5547498517</td>\n",
       "      <td>4</td>\n",
       "      <td>1.608578e+09</td>\n",
       "      <td>314.640000</td>\n",
       "      <td>301.84000</td>\n",
       "      <td>...</td>\n",
       "      <td>7.347183e+07</td>\n",
       "      <td>1.34219</td>\n",
       "      <td>1.796855e+07</td>\n",
       "      <td>2.100000e+07</td>\n",
       "      <td>3785.82</td>\n",
       "      <td>-91.83870</td>\n",
       "      <td>2017-12-20T00:00:00.000Z</td>\n",
       "      <td>None</td>\n",
       "      <td>2019-08-26T16:00:26.923Z</td>\n",
       "      <td>1.352396</td>\n",
       "    </tr>\n",
       "    <tr>\n",
       "      <th>4</th>\n",
       "      <td>litecoin</td>\n",
       "      <td>ltc</td>\n",
       "      <td>Litecoin</td>\n",
       "      <td>https://assets.coingecko.com/coins/images/2/la...</td>\n",
       "      <td>73.470000</td>\n",
       "      <td>4637720084</td>\n",
       "      <td>5</td>\n",
       "      <td>2.869340e+09</td>\n",
       "      <td>74.990000</td>\n",
       "      <td>70.89000</td>\n",
       "      <td>...</td>\n",
       "      <td>5.449213e+07</td>\n",
       "      <td>1.18895</td>\n",
       "      <td>6.311781e+07</td>\n",
       "      <td>8.400000e+07</td>\n",
       "      <td>360.66</td>\n",
       "      <td>-79.61576</td>\n",
       "      <td>2017-12-18T00:00:00.000Z</td>\n",
       "      <td>None</td>\n",
       "      <td>2019-08-26T16:00:45.956Z</td>\n",
       "      <td>1.170753</td>\n",
       "    </tr>\n",
       "  </tbody>\n",
       "</table>\n",
       "<p>5 rows × 22 columns</p>\n",
       "</div>"
      ],
      "text/plain": [
       "             id symbol          name  \\\n",
       "0       bitcoin    btc       Bitcoin   \n",
       "1      ethereum    eth      Ethereum   \n",
       "2        ripple    xrp           XRP   \n",
       "3  bitcoin-cash    bch  Bitcoin Cash   \n",
       "4      litecoin    ltc      Litecoin   \n",
       "\n",
       "                                               image  current_price  \\\n",
       "0  https://assets.coingecko.com/coins/images/1/la...   10311.470000   \n",
       "1  https://assets.coingecko.com/coins/images/279/...     188.520000   \n",
       "2  https://assets.coingecko.com/coins/images/44/l...       0.270181   \n",
       "3  https://assets.coingecko.com/coins/images/780/...     308.790000   \n",
       "4  https://assets.coingecko.com/coins/images/2/la...      73.470000   \n",
       "\n",
       "     market_cap  market_cap_rank  total_volume      high_24h     low_24h  ...  \\\n",
       "0  184502305101                1  2.261348e+10  10673.830000  9990.11000  ...   \n",
       "1   20264537897                2  7.388140e+09    194.000000   183.66000  ...   \n",
       "2   11595223451                3  1.429245e+09      0.278334     0.26708  ...   \n",
       "3    5547498517                4  1.608578e+09    314.640000   301.84000  ...   \n",
       "4    4637720084                5  2.869340e+09     74.990000    70.89000  ...   \n",
       "\n",
       "   market_cap_change_24h  market_cap_change_percentage_24h  \\\n",
       "0           3.787675e+09                           2.09594   \n",
       "1           6.847568e+07                           0.33905   \n",
       "2           6.791793e+06                           0.05861   \n",
       "3           7.347183e+07                           1.34219   \n",
       "4           5.449213e+07                           1.18895   \n",
       "\n",
       "   circulating_supply  total_supply       ath  ath_change_percentage  \\\n",
       "0        1.789812e+07  2.100000e+07  19665.39              -47.56543   \n",
       "1        1.074819e+08           NaN   1448.18              -86.95546   \n",
       "2        4.290954e+10  1.000000e+11      3.40              -92.03992   \n",
       "3        1.796855e+07  2.100000e+07   3785.82              -91.83870   \n",
       "4        6.311781e+07  8.400000e+07    360.66              -79.61576   \n",
       "\n",
       "                   ath_date  \\\n",
       "0  2017-12-16T00:00:00.000Z   \n",
       "1  2018-01-13T00:00:00.000Z   \n",
       "2  2018-01-07T00:00:00.000Z   \n",
       "3  2017-12-20T00:00:00.000Z   \n",
       "4  2017-12-18T00:00:00.000Z   \n",
       "\n",
       "                                                 roi  \\\n",
       "0                                               None   \n",
       "1  {'times': 23.42172587576219, 'currency': 'btc'...   \n",
       "2                                               None   \n",
       "3                                               None   \n",
       "4                                               None   \n",
       "\n",
       "               last_updated price_change_percentage_24h_in_currency  \n",
       "0  2019-08-26T16:00:48.803Z                                2.132930  \n",
       "1  2019-08-26T16:00:51.255Z                                0.222511  \n",
       "2  2019-08-26T16:00:39.265Z                                0.042662  \n",
       "3  2019-08-26T16:00:26.923Z                                1.352396  \n",
       "4  2019-08-26T16:00:45.956Z                                1.170753  \n",
       "\n",
       "[5 rows x 22 columns]"
      ]
     },
     "execution_count": 59,
     "metadata": {},
     "output_type": "execute_result"
    }
   ],
   "source": [
    "currencies.head()"
   ]
  },
  {
   "cell_type": "code",
   "execution_count": 61,
   "metadata": {},
   "outputs": [],
   "source": [
    "currencies = currencies[(currencies['market_cap_rank'] < 11)]"
   ]
  },
  {
   "cell_type": "code",
   "execution_count": 62,
   "metadata": {},
   "outputs": [
    {
     "data": {
      "text/html": [
       "<div>\n",
       "<style scoped>\n",
       "    .dataframe tbody tr th:only-of-type {\n",
       "        vertical-align: middle;\n",
       "    }\n",
       "\n",
       "    .dataframe tbody tr th {\n",
       "        vertical-align: top;\n",
       "    }\n",
       "\n",
       "    .dataframe thead th {\n",
       "        text-align: right;\n",
       "    }\n",
       "</style>\n",
       "<table border=\"1\" class=\"dataframe\">\n",
       "  <thead>\n",
       "    <tr style=\"text-align: right;\">\n",
       "      <th></th>\n",
       "      <th>id</th>\n",
       "      <th>symbol</th>\n",
       "      <th>name</th>\n",
       "      <th>market_cap_rank</th>\n",
       "      <th>market_cap</th>\n",
       "    </tr>\n",
       "  </thead>\n",
       "  <tbody>\n",
       "    <tr>\n",
       "      <th>0</th>\n",
       "      <td>bitcoin</td>\n",
       "      <td>btc</td>\n",
       "      <td>Bitcoin</td>\n",
       "      <td>1</td>\n",
       "      <td>184502305101</td>\n",
       "    </tr>\n",
       "    <tr>\n",
       "      <th>1</th>\n",
       "      <td>ethereum</td>\n",
       "      <td>eth</td>\n",
       "      <td>Ethereum</td>\n",
       "      <td>2</td>\n",
       "      <td>20264537897</td>\n",
       "    </tr>\n",
       "    <tr>\n",
       "      <th>2</th>\n",
       "      <td>ripple</td>\n",
       "      <td>xrp</td>\n",
       "      <td>XRP</td>\n",
       "      <td>3</td>\n",
       "      <td>11595223451</td>\n",
       "    </tr>\n",
       "    <tr>\n",
       "      <th>3</th>\n",
       "      <td>bitcoin-cash</td>\n",
       "      <td>bch</td>\n",
       "      <td>Bitcoin Cash</td>\n",
       "      <td>4</td>\n",
       "      <td>5547498517</td>\n",
       "    </tr>\n",
       "    <tr>\n",
       "      <th>4</th>\n",
       "      <td>litecoin</td>\n",
       "      <td>ltc</td>\n",
       "      <td>Litecoin</td>\n",
       "      <td>5</td>\n",
       "      <td>4637720084</td>\n",
       "    </tr>\n",
       "  </tbody>\n",
       "</table>\n",
       "</div>"
      ],
      "text/plain": [
       "             id symbol          name  market_cap_rank    market_cap\n",
       "0       bitcoin    btc       Bitcoin                1  184502305101\n",
       "1      ethereum    eth      Ethereum                2   20264537897\n",
       "2        ripple    xrp           XRP                3   11595223451\n",
       "3  bitcoin-cash    bch  Bitcoin Cash                4    5547498517\n",
       "4      litecoin    ltc      Litecoin                5    4637720084"
      ]
     },
     "execution_count": 62,
     "metadata": {},
     "output_type": "execute_result"
    }
   ],
   "source": [
    "currencies = currencies [['id', 'symbol', 'name', 'market_cap_rank', 'market_cap']]"
   ]
  },
  {
   "cell_type": "code",
   "execution_count": 63,
   "metadata": {},
   "outputs": [
    {
     "data": {
      "text/html": [
       "<div>\n",
       "<style scoped>\n",
       "    .dataframe tbody tr th:only-of-type {\n",
       "        vertical-align: middle;\n",
       "    }\n",
       "\n",
       "    .dataframe tbody tr th {\n",
       "        vertical-align: top;\n",
       "    }\n",
       "\n",
       "    .dataframe thead th {\n",
       "        text-align: right;\n",
       "    }\n",
       "</style>\n",
       "<table border=\"1\" class=\"dataframe\">\n",
       "  <thead>\n",
       "    <tr style=\"text-align: right;\">\n",
       "      <th></th>\n",
       "      <th>id</th>\n",
       "      <th>symbol</th>\n",
       "      <th>name</th>\n",
       "      <th>market_cap_rank</th>\n",
       "      <th>market_cap</th>\n",
       "    </tr>\n",
       "  </thead>\n",
       "  <tbody>\n",
       "    <tr>\n",
       "      <th>0</th>\n",
       "      <td>bitcoin</td>\n",
       "      <td>btc</td>\n",
       "      <td>Bitcoin</td>\n",
       "      <td>1</td>\n",
       "      <td>184502305101</td>\n",
       "    </tr>\n",
       "    <tr>\n",
       "      <th>1</th>\n",
       "      <td>ethereum</td>\n",
       "      <td>eth</td>\n",
       "      <td>Ethereum</td>\n",
       "      <td>2</td>\n",
       "      <td>20264537897</td>\n",
       "    </tr>\n",
       "    <tr>\n",
       "      <th>2</th>\n",
       "      <td>ripple</td>\n",
       "      <td>xrp</td>\n",
       "      <td>XRP</td>\n",
       "      <td>3</td>\n",
       "      <td>11595223451</td>\n",
       "    </tr>\n",
       "    <tr>\n",
       "      <th>3</th>\n",
       "      <td>bitcoin-cash</td>\n",
       "      <td>bch</td>\n",
       "      <td>Bitcoin Cash</td>\n",
       "      <td>4</td>\n",
       "      <td>5547498517</td>\n",
       "    </tr>\n",
       "    <tr>\n",
       "      <th>4</th>\n",
       "      <td>litecoin</td>\n",
       "      <td>ltc</td>\n",
       "      <td>Litecoin</td>\n",
       "      <td>5</td>\n",
       "      <td>4637720084</td>\n",
       "    </tr>\n",
       "    <tr>\n",
       "      <th>5</th>\n",
       "      <td>binancecoin</td>\n",
       "      <td>bnb</td>\n",
       "      <td>Binance Coin</td>\n",
       "      <td>6</td>\n",
       "      <td>4049070249</td>\n",
       "    </tr>\n",
       "    <tr>\n",
       "      <th>6</th>\n",
       "      <td>eos</td>\n",
       "      <td>eos</td>\n",
       "      <td>EOS</td>\n",
       "      <td>7</td>\n",
       "      <td>3657462538</td>\n",
       "    </tr>\n",
       "    <tr>\n",
       "      <th>7</th>\n",
       "      <td>tether</td>\n",
       "      <td>usdt</td>\n",
       "      <td>Tether</td>\n",
       "      <td>8</td>\n",
       "      <td>3557215954</td>\n",
       "    </tr>\n",
       "    <tr>\n",
       "      <th>8</th>\n",
       "      <td>bitcoin-cash-sv</td>\n",
       "      <td>bsv</td>\n",
       "      <td>Bitcoin SV</td>\n",
       "      <td>9</td>\n",
       "      <td>2404872101</td>\n",
       "    </tr>\n",
       "    <tr>\n",
       "      <th>9</th>\n",
       "      <td>cardano</td>\n",
       "      <td>ada</td>\n",
       "      <td>Cardano</td>\n",
       "      <td>10</td>\n",
       "      <td>1555260845</td>\n",
       "    </tr>\n",
       "  </tbody>\n",
       "</table>\n",
       "</div>"
      ],
      "text/plain": [
       "                id symbol          name  market_cap_rank    market_cap\n",
       "0          bitcoin    btc       Bitcoin                1  184502305101\n",
       "1         ethereum    eth      Ethereum                2   20264537897\n",
       "2           ripple    xrp           XRP                3   11595223451\n",
       "3     bitcoin-cash    bch  Bitcoin Cash                4    5547498517\n",
       "4         litecoin    ltc      Litecoin                5    4637720084\n",
       "5      binancecoin    bnb  Binance Coin                6    4049070249\n",
       "6              eos    eos           EOS                7    3657462538\n",
       "7           tether   usdt        Tether                8    3557215954\n",
       "8  bitcoin-cash-sv    bsv    Bitcoin SV                9    2404872101\n",
       "9          cardano    ada       Cardano               10    1555260845"
      ]
     },
     "execution_count": 63,
     "metadata": {},
     "output_type": "execute_result"
    }
   ],
   "source": [
    "currencies.head(11)"
   ]
  },
  {
   "cell_type": "markdown",
   "metadata": {},
   "source": [
    "## Make a csv called 'top_ten_report.csv' and check that it worked"
   ]
  },
  {
   "cell_type": "code",
   "execution_count": 68,
   "metadata": {},
   "outputs": [],
   "source": [
    "currencies.to_csv(path_or_buf = '/Users/sofiacostadesousa/Desktop/Ironhack/26.08/lab-coingecko-api/top_ten_report.csv')"
   ]
  },
  {
   "cell_type": "code",
   "execution_count": null,
   "metadata": {},
   "outputs": [],
   "source": []
  }
 ],
 "metadata": {
  "kernelspec": {
   "display_name": "Python 3",
   "language": "python",
   "name": "python3"
  },
  "language_info": {
   "codemirror_mode": {
    "name": "ipython",
    "version": 3
   },
   "file_extension": ".py",
   "mimetype": "text/x-python",
   "name": "python",
   "nbconvert_exporter": "python",
   "pygments_lexer": "ipython3",
   "version": "3.7.4"
  }
 },
 "nbformat": 4,
 "nbformat_minor": 2
}
